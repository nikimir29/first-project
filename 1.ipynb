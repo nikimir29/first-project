{
 "cells": [
  {
   "cell_type": "markdown",
   "id": "364b6ee0",
   "metadata": {},
   "source": [
    "<div class=\"alert alert-success\">\n",
    "<b>Комментарий ревьюера v 2.0 ✔️:</b> Отлично, Никита! Ты исправил все, даже самые незначительные недостатки и теперь твой проект конечно же принят. \n",
    "    \n",
    "Спасибо за работу и успехов в следующих проектах!) </div>"
   ]
  },
  {
   "cell_type": "markdown",
   "id": "df511c42",
   "metadata": {},
   "source": [
    "<div style=\"border:solid green 2px; padding: 20px\">\n",
    "<b>Привет!</b>\n",
    "\n",
    "Меня зовут Михаленко Дмитрий, и я буду проверять твой проект. Предлагаю общаться на «ты» :) Но если это не удобно - дай знать, и мы перейдем на \"вы\". \n",
    "\n",
    "Моя основная цель — не указать на совершенные тобою ошибки, а поделиться своим опытом и помочь тебе стать аналитиком данных. Ты уже проделал большую работу над проектом, но давай сделаем его еще лучше. Ниже ты найдешь мои комментарии - **пожалуйста, не перемещай, не изменяй и не удаляй их**. Увидев у тебя ошибку, в первый раз я лишь укажу на ее наличие и дам тебе возможность самому найти и исправить ее. На реальной работе твой начальник будет поступать так же, а я пытаюсь подготовить тебя именно к работе аналитиком. Но если ты пока не справишься с такой задачей - при следующей проверке я дам более точную подсказку. Я буду использовать цветовую разметку:\n",
    "\n",
    "<div class=\"alert alert-danger\">\n",
    "<b>Комментарий ревьюера ❌:</b> Так выделены самые важные замечания. Без их отработки проект не будет принят. </div>\n",
    "\n",
    "<div class=\"alert alert-warning\">\n",
    "<b>Комментарий ревьюера ⚠️:</b> Так выделены небольшие замечания. Я надеюсь, что их ты тоже учтешь - твой проект от этого станет только лучше. Но настаивать на их отработке не буду.\n",
    "\n",
    "</div>\n",
    "\n",
    "<div class=\"alert alert-success\">\n",
    "<b>Комментарий ревьюера ✔️:</b> Так я выделяю все остальные комментарии.</div>\n",
    "\n",
    "Давай работать над проектом в диалоге: **если ты что-то меняешь в проекте или отвечаешь на мои комментарии — пиши об этом.** Мне будет легче отследить изменения, если ты выделишь свои комментарии:\n",
    "<div class=\"alert alert-info\"> <b>Комментарий студента:</b> Например, вот так.</div>\n",
    "\n",
    "Всё это поможет выполнить повторную проверку твоего проекта оперативнее."
   ]
  },
  {
   "cell_type": "markdown",
   "id": "c81daeeb",
   "metadata": {
    "deletable": false,
    "id": "c81daeeb"
   },
   "source": [
    "# Исследование надежности заемщиков\n"
   ]
  },
  {
   "cell_type": "markdown",
   "id": "827c20bf",
   "metadata": {
    "id": "827c20bf"
   },
   "source": [
    "Во второй части проекта вы выполните шаги 3 и 4. Их вручную проверит ревьюер.\n",
    "Чтобы вам не пришлось писать код заново для шагов 1 и 2, мы добавили авторские решения в ячейки с кодом. \n",
    "\n"
   ]
  },
  {
   "cell_type": "markdown",
   "id": "744d7639",
   "metadata": {
    "deletable": false,
    "id": "744d7639"
   },
   "source": [
    "## Откройте таблицу и изучите общую информацию о данных"
   ]
  },
  {
   "cell_type": "markdown",
   "id": "e7a14c31",
   "metadata": {
    "deletable": false,
    "id": "e7a14c31"
   },
   "source": [
    "**Задание 1. Импортируйте библиотеку pandas. Считайте данные из csv-файла в датафрейм и сохраните в переменную `data`. Путь к файлу:**\n",
    "\n",
    "`/datasets/data.csv`"
   ]
  },
  {
   "cell_type": "code",
   "execution_count": 1,
   "id": "7bcf75c9",
   "metadata": {
    "deletable": false,
    "id": "7bcf75c9"
   },
   "outputs": [],
   "source": [
    "import pandas as pd\n",
    "\n",
    "try:\n",
    "    data = pd.read_csv('/datasets/data.csv')\n",
    "except:\n",
    "    data = pd.read_csv('https://code.s3.yandex.net/datasets/data.csv')"
   ]
  },
  {
   "cell_type": "markdown",
   "id": "b8038fe3",
   "metadata": {
    "deletable": false,
    "id": "b8038fe3"
   },
   "source": [
    "**Задание 2. Выведите первые 20 строчек датафрейма `data` на экран.**"
   ]
  },
  {
   "cell_type": "code",
   "execution_count": 2,
   "id": "2a7cab99",
   "metadata": {
    "deletable": false,
    "id": "2a7cab99",
    "outputId": "1a8f3ef2-d323-4ec2-ddf7-89670b5944c4"
   },
   "outputs": [
    {
     "data": {
      "text/html": [
       "<div>\n",
       "<style scoped>\n",
       "    .dataframe tbody tr th:only-of-type {\n",
       "        vertical-align: middle;\n",
       "    }\n",
       "\n",
       "    .dataframe tbody tr th {\n",
       "        vertical-align: top;\n",
       "    }\n",
       "\n",
       "    .dataframe thead th {\n",
       "        text-align: right;\n",
       "    }\n",
       "</style>\n",
       "<table border=\"1\" class=\"dataframe\">\n",
       "  <thead>\n",
       "    <tr style=\"text-align: right;\">\n",
       "      <th></th>\n",
       "      <th>children</th>\n",
       "      <th>days_employed</th>\n",
       "      <th>dob_years</th>\n",
       "      <th>education</th>\n",
       "      <th>education_id</th>\n",
       "      <th>family_status</th>\n",
       "      <th>family_status_id</th>\n",
       "      <th>gender</th>\n",
       "      <th>income_type</th>\n",
       "      <th>debt</th>\n",
       "      <th>total_income</th>\n",
       "      <th>purpose</th>\n",
       "    </tr>\n",
       "  </thead>\n",
       "  <tbody>\n",
       "    <tr>\n",
       "      <th>0</th>\n",
       "      <td>1</td>\n",
       "      <td>-8437.673028</td>\n",
       "      <td>42</td>\n",
       "      <td>высшее</td>\n",
       "      <td>0</td>\n",
       "      <td>женат / замужем</td>\n",
       "      <td>0</td>\n",
       "      <td>F</td>\n",
       "      <td>сотрудник</td>\n",
       "      <td>0</td>\n",
       "      <td>253875.639453</td>\n",
       "      <td>покупка жилья</td>\n",
       "    </tr>\n",
       "    <tr>\n",
       "      <th>1</th>\n",
       "      <td>1</td>\n",
       "      <td>-4024.803754</td>\n",
       "      <td>36</td>\n",
       "      <td>среднее</td>\n",
       "      <td>1</td>\n",
       "      <td>женат / замужем</td>\n",
       "      <td>0</td>\n",
       "      <td>F</td>\n",
       "      <td>сотрудник</td>\n",
       "      <td>0</td>\n",
       "      <td>112080.014102</td>\n",
       "      <td>приобретение автомобиля</td>\n",
       "    </tr>\n",
       "    <tr>\n",
       "      <th>2</th>\n",
       "      <td>0</td>\n",
       "      <td>-5623.422610</td>\n",
       "      <td>33</td>\n",
       "      <td>Среднее</td>\n",
       "      <td>1</td>\n",
       "      <td>женат / замужем</td>\n",
       "      <td>0</td>\n",
       "      <td>M</td>\n",
       "      <td>сотрудник</td>\n",
       "      <td>0</td>\n",
       "      <td>145885.952297</td>\n",
       "      <td>покупка жилья</td>\n",
       "    </tr>\n",
       "    <tr>\n",
       "      <th>3</th>\n",
       "      <td>3</td>\n",
       "      <td>-4124.747207</td>\n",
       "      <td>32</td>\n",
       "      <td>среднее</td>\n",
       "      <td>1</td>\n",
       "      <td>женат / замужем</td>\n",
       "      <td>0</td>\n",
       "      <td>M</td>\n",
       "      <td>сотрудник</td>\n",
       "      <td>0</td>\n",
       "      <td>267628.550329</td>\n",
       "      <td>дополнительное образование</td>\n",
       "    </tr>\n",
       "    <tr>\n",
       "      <th>4</th>\n",
       "      <td>0</td>\n",
       "      <td>340266.072047</td>\n",
       "      <td>53</td>\n",
       "      <td>среднее</td>\n",
       "      <td>1</td>\n",
       "      <td>гражданский брак</td>\n",
       "      <td>1</td>\n",
       "      <td>F</td>\n",
       "      <td>пенсионер</td>\n",
       "      <td>0</td>\n",
       "      <td>158616.077870</td>\n",
       "      <td>сыграть свадьбу</td>\n",
       "    </tr>\n",
       "    <tr>\n",
       "      <th>5</th>\n",
       "      <td>0</td>\n",
       "      <td>-926.185831</td>\n",
       "      <td>27</td>\n",
       "      <td>высшее</td>\n",
       "      <td>0</td>\n",
       "      <td>гражданский брак</td>\n",
       "      <td>1</td>\n",
       "      <td>M</td>\n",
       "      <td>компаньон</td>\n",
       "      <td>0</td>\n",
       "      <td>255763.565419</td>\n",
       "      <td>покупка жилья</td>\n",
       "    </tr>\n",
       "    <tr>\n",
       "      <th>6</th>\n",
       "      <td>0</td>\n",
       "      <td>-2879.202052</td>\n",
       "      <td>43</td>\n",
       "      <td>высшее</td>\n",
       "      <td>0</td>\n",
       "      <td>женат / замужем</td>\n",
       "      <td>0</td>\n",
       "      <td>F</td>\n",
       "      <td>компаньон</td>\n",
       "      <td>0</td>\n",
       "      <td>240525.971920</td>\n",
       "      <td>операции с жильем</td>\n",
       "    </tr>\n",
       "    <tr>\n",
       "      <th>7</th>\n",
       "      <td>0</td>\n",
       "      <td>-152.779569</td>\n",
       "      <td>50</td>\n",
       "      <td>СРЕДНЕЕ</td>\n",
       "      <td>1</td>\n",
       "      <td>женат / замужем</td>\n",
       "      <td>0</td>\n",
       "      <td>M</td>\n",
       "      <td>сотрудник</td>\n",
       "      <td>0</td>\n",
       "      <td>135823.934197</td>\n",
       "      <td>образование</td>\n",
       "    </tr>\n",
       "    <tr>\n",
       "      <th>8</th>\n",
       "      <td>2</td>\n",
       "      <td>-6929.865299</td>\n",
       "      <td>35</td>\n",
       "      <td>ВЫСШЕЕ</td>\n",
       "      <td>0</td>\n",
       "      <td>гражданский брак</td>\n",
       "      <td>1</td>\n",
       "      <td>F</td>\n",
       "      <td>сотрудник</td>\n",
       "      <td>0</td>\n",
       "      <td>95856.832424</td>\n",
       "      <td>на проведение свадьбы</td>\n",
       "    </tr>\n",
       "    <tr>\n",
       "      <th>9</th>\n",
       "      <td>0</td>\n",
       "      <td>-2188.756445</td>\n",
       "      <td>41</td>\n",
       "      <td>среднее</td>\n",
       "      <td>1</td>\n",
       "      <td>женат / замужем</td>\n",
       "      <td>0</td>\n",
       "      <td>M</td>\n",
       "      <td>сотрудник</td>\n",
       "      <td>0</td>\n",
       "      <td>144425.938277</td>\n",
       "      <td>покупка жилья для семьи</td>\n",
       "    </tr>\n",
       "    <tr>\n",
       "      <th>10</th>\n",
       "      <td>2</td>\n",
       "      <td>-4171.483647</td>\n",
       "      <td>36</td>\n",
       "      <td>высшее</td>\n",
       "      <td>0</td>\n",
       "      <td>женат / замужем</td>\n",
       "      <td>0</td>\n",
       "      <td>M</td>\n",
       "      <td>компаньон</td>\n",
       "      <td>0</td>\n",
       "      <td>113943.491460</td>\n",
       "      <td>покупка недвижимости</td>\n",
       "    </tr>\n",
       "    <tr>\n",
       "      <th>11</th>\n",
       "      <td>0</td>\n",
       "      <td>-792.701887</td>\n",
       "      <td>40</td>\n",
       "      <td>среднее</td>\n",
       "      <td>1</td>\n",
       "      <td>женат / замужем</td>\n",
       "      <td>0</td>\n",
       "      <td>F</td>\n",
       "      <td>сотрудник</td>\n",
       "      <td>0</td>\n",
       "      <td>77069.234271</td>\n",
       "      <td>покупка коммерческой недвижимости</td>\n",
       "    </tr>\n",
       "    <tr>\n",
       "      <th>12</th>\n",
       "      <td>0</td>\n",
       "      <td>NaN</td>\n",
       "      <td>65</td>\n",
       "      <td>среднее</td>\n",
       "      <td>1</td>\n",
       "      <td>гражданский брак</td>\n",
       "      <td>1</td>\n",
       "      <td>M</td>\n",
       "      <td>пенсионер</td>\n",
       "      <td>0</td>\n",
       "      <td>NaN</td>\n",
       "      <td>сыграть свадьбу</td>\n",
       "    </tr>\n",
       "    <tr>\n",
       "      <th>13</th>\n",
       "      <td>0</td>\n",
       "      <td>-1846.641941</td>\n",
       "      <td>54</td>\n",
       "      <td>неоконченное высшее</td>\n",
       "      <td>2</td>\n",
       "      <td>женат / замужем</td>\n",
       "      <td>0</td>\n",
       "      <td>F</td>\n",
       "      <td>сотрудник</td>\n",
       "      <td>0</td>\n",
       "      <td>130458.228857</td>\n",
       "      <td>приобретение автомобиля</td>\n",
       "    </tr>\n",
       "    <tr>\n",
       "      <th>14</th>\n",
       "      <td>0</td>\n",
       "      <td>-1844.956182</td>\n",
       "      <td>56</td>\n",
       "      <td>высшее</td>\n",
       "      <td>0</td>\n",
       "      <td>гражданский брак</td>\n",
       "      <td>1</td>\n",
       "      <td>F</td>\n",
       "      <td>компаньон</td>\n",
       "      <td>1</td>\n",
       "      <td>165127.911772</td>\n",
       "      <td>покупка жилой недвижимости</td>\n",
       "    </tr>\n",
       "    <tr>\n",
       "      <th>15</th>\n",
       "      <td>1</td>\n",
       "      <td>-972.364419</td>\n",
       "      <td>26</td>\n",
       "      <td>среднее</td>\n",
       "      <td>1</td>\n",
       "      <td>женат / замужем</td>\n",
       "      <td>0</td>\n",
       "      <td>F</td>\n",
       "      <td>сотрудник</td>\n",
       "      <td>0</td>\n",
       "      <td>116820.904450</td>\n",
       "      <td>строительство собственной недвижимости</td>\n",
       "    </tr>\n",
       "    <tr>\n",
       "      <th>16</th>\n",
       "      <td>0</td>\n",
       "      <td>-1719.934226</td>\n",
       "      <td>35</td>\n",
       "      <td>среднее</td>\n",
       "      <td>1</td>\n",
       "      <td>женат / замужем</td>\n",
       "      <td>0</td>\n",
       "      <td>F</td>\n",
       "      <td>сотрудник</td>\n",
       "      <td>0</td>\n",
       "      <td>289202.704229</td>\n",
       "      <td>недвижимость</td>\n",
       "    </tr>\n",
       "    <tr>\n",
       "      <th>17</th>\n",
       "      <td>0</td>\n",
       "      <td>-2369.999720</td>\n",
       "      <td>33</td>\n",
       "      <td>высшее</td>\n",
       "      <td>0</td>\n",
       "      <td>гражданский брак</td>\n",
       "      <td>1</td>\n",
       "      <td>M</td>\n",
       "      <td>сотрудник</td>\n",
       "      <td>0</td>\n",
       "      <td>90410.586745</td>\n",
       "      <td>строительство недвижимости</td>\n",
       "    </tr>\n",
       "    <tr>\n",
       "      <th>18</th>\n",
       "      <td>0</td>\n",
       "      <td>400281.136913</td>\n",
       "      <td>53</td>\n",
       "      <td>среднее</td>\n",
       "      <td>1</td>\n",
       "      <td>вдовец / вдова</td>\n",
       "      <td>2</td>\n",
       "      <td>F</td>\n",
       "      <td>пенсионер</td>\n",
       "      <td>0</td>\n",
       "      <td>56823.777243</td>\n",
       "      <td>на покупку подержанного автомобиля</td>\n",
       "    </tr>\n",
       "    <tr>\n",
       "      <th>19</th>\n",
       "      <td>0</td>\n",
       "      <td>-10038.818549</td>\n",
       "      <td>48</td>\n",
       "      <td>СРЕДНЕЕ</td>\n",
       "      <td>1</td>\n",
       "      <td>в разводе</td>\n",
       "      <td>3</td>\n",
       "      <td>F</td>\n",
       "      <td>сотрудник</td>\n",
       "      <td>0</td>\n",
       "      <td>242831.107982</td>\n",
       "      <td>на покупку своего автомобиля</td>\n",
       "    </tr>\n",
       "  </tbody>\n",
       "</table>\n",
       "</div>"
      ],
      "text/plain": [
       "    children  days_employed  dob_years            education  education_id  \\\n",
       "0          1   -8437.673028         42               высшее             0   \n",
       "1          1   -4024.803754         36              среднее             1   \n",
       "2          0   -5623.422610         33              Среднее             1   \n",
       "3          3   -4124.747207         32              среднее             1   \n",
       "4          0  340266.072047         53              среднее             1   \n",
       "5          0    -926.185831         27               высшее             0   \n",
       "6          0   -2879.202052         43               высшее             0   \n",
       "7          0    -152.779569         50              СРЕДНЕЕ             1   \n",
       "8          2   -6929.865299         35               ВЫСШЕЕ             0   \n",
       "9          0   -2188.756445         41              среднее             1   \n",
       "10         2   -4171.483647         36               высшее             0   \n",
       "11         0    -792.701887         40              среднее             1   \n",
       "12         0            NaN         65              среднее             1   \n",
       "13         0   -1846.641941         54  неоконченное высшее             2   \n",
       "14         0   -1844.956182         56               высшее             0   \n",
       "15         1    -972.364419         26              среднее             1   \n",
       "16         0   -1719.934226         35              среднее             1   \n",
       "17         0   -2369.999720         33               высшее             0   \n",
       "18         0  400281.136913         53              среднее             1   \n",
       "19         0  -10038.818549         48              СРЕДНЕЕ             1   \n",
       "\n",
       "       family_status  family_status_id gender income_type  debt  \\\n",
       "0    женат / замужем                 0      F   сотрудник     0   \n",
       "1    женат / замужем                 0      F   сотрудник     0   \n",
       "2    женат / замужем                 0      M   сотрудник     0   \n",
       "3    женат / замужем                 0      M   сотрудник     0   \n",
       "4   гражданский брак                 1      F   пенсионер     0   \n",
       "5   гражданский брак                 1      M   компаньон     0   \n",
       "6    женат / замужем                 0      F   компаньон     0   \n",
       "7    женат / замужем                 0      M   сотрудник     0   \n",
       "8   гражданский брак                 1      F   сотрудник     0   \n",
       "9    женат / замужем                 0      M   сотрудник     0   \n",
       "10   женат / замужем                 0      M   компаньон     0   \n",
       "11   женат / замужем                 0      F   сотрудник     0   \n",
       "12  гражданский брак                 1      M   пенсионер     0   \n",
       "13   женат / замужем                 0      F   сотрудник     0   \n",
       "14  гражданский брак                 1      F   компаньон     1   \n",
       "15   женат / замужем                 0      F   сотрудник     0   \n",
       "16   женат / замужем                 0      F   сотрудник     0   \n",
       "17  гражданский брак                 1      M   сотрудник     0   \n",
       "18    вдовец / вдова                 2      F   пенсионер     0   \n",
       "19         в разводе                 3      F   сотрудник     0   \n",
       "\n",
       "     total_income                                 purpose  \n",
       "0   253875.639453                           покупка жилья  \n",
       "1   112080.014102                 приобретение автомобиля  \n",
       "2   145885.952297                           покупка жилья  \n",
       "3   267628.550329              дополнительное образование  \n",
       "4   158616.077870                         сыграть свадьбу  \n",
       "5   255763.565419                           покупка жилья  \n",
       "6   240525.971920                       операции с жильем  \n",
       "7   135823.934197                             образование  \n",
       "8    95856.832424                   на проведение свадьбы  \n",
       "9   144425.938277                 покупка жилья для семьи  \n",
       "10  113943.491460                    покупка недвижимости  \n",
       "11   77069.234271       покупка коммерческой недвижимости  \n",
       "12            NaN                         сыграть свадьбу  \n",
       "13  130458.228857                 приобретение автомобиля  \n",
       "14  165127.911772              покупка жилой недвижимости  \n",
       "15  116820.904450  строительство собственной недвижимости  \n",
       "16  289202.704229                            недвижимость  \n",
       "17   90410.586745              строительство недвижимости  \n",
       "18   56823.777243      на покупку подержанного автомобиля  \n",
       "19  242831.107982            на покупку своего автомобиля  "
      ]
     },
     "execution_count": 2,
     "metadata": {},
     "output_type": "execute_result"
    }
   ],
   "source": [
    "data.head(20)"
   ]
  },
  {
   "cell_type": "markdown",
   "id": "1c12e233",
   "metadata": {
    "deletable": false,
    "id": "1c12e233"
   },
   "source": [
    "**Задание 3. Выведите основную информацию о датафрейме с помощью метода `info()`.**"
   ]
  },
  {
   "cell_type": "code",
   "execution_count": 3,
   "id": "2b757bca",
   "metadata": {
    "deletable": false,
    "id": "2b757bca",
    "outputId": "15376089-8dad-46c9-b520-c05248d43158"
   },
   "outputs": [
    {
     "name": "stdout",
     "output_type": "stream",
     "text": [
      "<class 'pandas.core.frame.DataFrame'>\n",
      "RangeIndex: 21525 entries, 0 to 21524\n",
      "Data columns (total 12 columns):\n",
      " #   Column            Non-Null Count  Dtype  \n",
      "---  ------            --------------  -----  \n",
      " 0   children          21525 non-null  int64  \n",
      " 1   days_employed     19351 non-null  float64\n",
      " 2   dob_years         21525 non-null  int64  \n",
      " 3   education         21525 non-null  object \n",
      " 4   education_id      21525 non-null  int64  \n",
      " 5   family_status     21525 non-null  object \n",
      " 6   family_status_id  21525 non-null  int64  \n",
      " 7   gender            21525 non-null  object \n",
      " 8   income_type       21525 non-null  object \n",
      " 9   debt              21525 non-null  int64  \n",
      " 10  total_income      19351 non-null  float64\n",
      " 11  purpose           21525 non-null  object \n",
      "dtypes: float64(2), int64(5), object(5)\n",
      "memory usage: 2.0+ MB\n"
     ]
    }
   ],
   "source": [
    "data.info()"
   ]
  },
  {
   "cell_type": "markdown",
   "id": "333ec665",
   "metadata": {
    "deletable": false,
    "id": "333ec665"
   },
   "source": [
    "## Предобработка данных"
   ]
  },
  {
   "cell_type": "markdown",
   "id": "02d92d53",
   "metadata": {
    "deletable": false,
    "id": "02d92d53"
   },
   "source": [
    "### Удаление пропусков"
   ]
  },
  {
   "cell_type": "markdown",
   "id": "cd84967c",
   "metadata": {
    "deletable": false,
    "id": "cd84967c"
   },
   "source": [
    "**Задание 4. Выведите количество пропущенных значений для каждого столбца. Используйте комбинацию двух методов.**"
   ]
  },
  {
   "cell_type": "code",
   "execution_count": 4,
   "id": "7f9b2309",
   "metadata": {
    "deletable": false,
    "id": "7f9b2309",
    "outputId": "81f4d817-781c-465c-ed15-91ce4446810d"
   },
   "outputs": [
    {
     "data": {
      "text/plain": [
       "children               0\n",
       "days_employed       2174\n",
       "dob_years              0\n",
       "education              0\n",
       "education_id           0\n",
       "family_status          0\n",
       "family_status_id       0\n",
       "gender                 0\n",
       "income_type            0\n",
       "debt                   0\n",
       "total_income        2174\n",
       "purpose                0\n",
       "dtype: int64"
      ]
     },
     "execution_count": 4,
     "metadata": {},
     "output_type": "execute_result"
    }
   ],
   "source": [
    "data.isna().sum()"
   ]
  },
  {
   "cell_type": "markdown",
   "id": "db86e27b",
   "metadata": {
    "deletable": false,
    "id": "db86e27b"
   },
   "source": [
    "**Задание 5. В двух столбцах есть пропущенные значения. Один из них — `days_employed`. Пропуски в этом столбце вы обработаете на следующем этапе. Другой столбец с пропущенными значениями — `total_income` — хранит данные о доходах. На сумму дохода сильнее всего влияет тип занятости, поэтому заполнить пропуски в этом столбце нужно медианным значением по каждому типу из столбца `income_type`. Например, у человека с типом занятости `сотрудник` пропуск в столбце `total_income` должен быть заполнен медианным доходом среди всех записей с тем же типом.**"
   ]
  },
  {
   "cell_type": "code",
   "execution_count": 5,
   "id": "42006a93",
   "metadata": {
    "deletable": false,
    "id": "42006a93"
   },
   "outputs": [],
   "source": [
    "for t in data['income_type'].unique():\n",
    "    data.loc[(data['income_type'] == t) & (data['total_income'].isna()), 'total_income'] = \\\n",
    "    data.loc[(data['income_type'] == t), 'total_income'].median()"
   ]
  },
  {
   "cell_type": "markdown",
   "id": "89da5ece",
   "metadata": {
    "deletable": false,
    "id": "89da5ece"
   },
   "source": [
    "### Обработка аномальных значений"
   ]
  },
  {
   "cell_type": "markdown",
   "id": "57964554",
   "metadata": {
    "deletable": false,
    "id": "57964554"
   },
   "source": [
    "**Задание 6. В данных могут встречаться артефакты (аномалии) — значения, которые не отражают действительность и появились по какой-то ошибке. таким артефактом будет отрицательное количество дней трудового стажа в столбце `days_employed`. Для реальных данных это нормально. Обработайте значения в этом столбце: замените все отрицательные значения положительными с помощью метода `abs()`.**"
   ]
  },
  {
   "cell_type": "code",
   "execution_count": 6,
   "id": "f6f055bf",
   "metadata": {
    "deletable": false,
    "id": "f6f055bf"
   },
   "outputs": [],
   "source": [
    "data['days_employed'] = data['days_employed'].abs()"
   ]
  },
  {
   "cell_type": "markdown",
   "id": "6107dd2f",
   "metadata": {
    "deletable": false,
    "id": "6107dd2f"
   },
   "source": [
    "**Задание 7. Для каждого типа занятости выведите медианное значение трудового стажа `days_employed` в днях.**"
   ]
  },
  {
   "cell_type": "code",
   "execution_count": 7,
   "id": "85a5faf6",
   "metadata": {
    "deletable": false,
    "id": "85a5faf6",
    "outputId": "801ef80e-522b-4668-f34e-565af7432bcf"
   },
   "outputs": [
    {
     "data": {
      "text/plain": [
       "income_type\n",
       "безработный        366413.652744\n",
       "в декрете            3296.759962\n",
       "госслужащий          2689.368353\n",
       "компаньон            1547.382223\n",
       "пенсионер          365213.306266\n",
       "предприниматель       520.848083\n",
       "сотрудник            1574.202821\n",
       "студент               578.751554\n",
       "Name: days_employed, dtype: float64"
      ]
     },
     "execution_count": 7,
     "metadata": {},
     "output_type": "execute_result"
    }
   ],
   "source": [
    "data.groupby('income_type')['days_employed'].agg('median')"
   ]
  },
  {
   "cell_type": "markdown",
   "id": "38d1a030",
   "metadata": {
    "deletable": false,
    "id": "38d1a030"
   },
   "source": [
    "У двух типов (безработные и пенсионеры) получатся аномально большие значения. Исправить такие значения сложно, поэтому оставьте их как есть. Тем более этот столбец не понадобится вам для исследования."
   ]
  },
  {
   "cell_type": "markdown",
   "id": "d8a9f147",
   "metadata": {
    "deletable": false,
    "id": "d8a9f147"
   },
   "source": [
    "**Задание 8. Выведите перечень уникальных значений столбца `children`.**"
   ]
  },
  {
   "cell_type": "code",
   "execution_count": 8,
   "id": "ef5056eb",
   "metadata": {
    "deletable": false,
    "id": "ef5056eb",
    "outputId": "6975b15c-7f95-4697-d16d-a0c79b657b03"
   },
   "outputs": [
    {
     "data": {
      "text/plain": [
       "array([ 1,  0,  3,  2, -1,  4, 20,  5])"
      ]
     },
     "execution_count": 8,
     "metadata": {},
     "output_type": "execute_result"
    }
   ],
   "source": [
    "data['children'].unique()"
   ]
  },
  {
   "cell_type": "markdown",
   "id": "40b9ebf2",
   "metadata": {
    "deletable": false,
    "id": "40b9ebf2"
   },
   "source": [
    "**Задание 9. В столбце `children` есть два аномальных значения. Удалите строки, в которых встречаются такие аномальные значения из датафрейма `data`.**"
   ]
  },
  {
   "cell_type": "code",
   "execution_count": 9,
   "id": "3ff9801d",
   "metadata": {
    "deletable": false,
    "id": "3ff9801d"
   },
   "outputs": [],
   "source": [
    "data = data[(data['children'] != -1) & (data['children'] != 20)]"
   ]
  },
  {
   "cell_type": "markdown",
   "id": "bbc4d0ce",
   "metadata": {
    "deletable": false,
    "id": "bbc4d0ce"
   },
   "source": [
    "**Задание 10. Ещё раз выведите перечень уникальных значений столбца `children`, чтобы убедиться, что артефакты удалены.**"
   ]
  },
  {
   "cell_type": "code",
   "execution_count": 10,
   "id": "ad4fa8b7",
   "metadata": {
    "deletable": false,
    "id": "ad4fa8b7",
    "outputId": "b2097101-d49d-44d9-901b-32a65c9463d1"
   },
   "outputs": [
    {
     "data": {
      "text/plain": [
       "array([1, 0, 3, 2, 4, 5])"
      ]
     },
     "execution_count": 10,
     "metadata": {},
     "output_type": "execute_result"
    }
   ],
   "source": [
    "data['children'].unique()"
   ]
  },
  {
   "cell_type": "markdown",
   "id": "75440b63",
   "metadata": {
    "deletable": false,
    "id": "75440b63"
   },
   "source": [
    "### Удаление пропусков (продолжение)"
   ]
  },
  {
   "cell_type": "markdown",
   "id": "f4ea573f",
   "metadata": {
    "deletable": false,
    "id": "f4ea573f"
   },
   "source": [
    "**Задание 11. Заполните пропуски в столбце `days_employed` медианными значениями по каждого типа занятости `income_type`.**"
   ]
  },
  {
   "cell_type": "code",
   "execution_count": 11,
   "id": "af6b1a7e",
   "metadata": {
    "deletable": false,
    "id": "af6b1a7e"
   },
   "outputs": [],
   "source": [
    "for t in data['income_type'].unique():\n",
    "    data.loc[(data['income_type'] == t) & (data['days_employed'].isna()), 'days_employed'] = \\\n",
    "    data.loc[(data['income_type'] == t), 'days_employed'].median()"
   ]
  },
  {
   "cell_type": "markdown",
   "id": "2753f40d",
   "metadata": {
    "deletable": false,
    "id": "2753f40d"
   },
   "source": [
    "**Задание 12. Убедитесь, что все пропуски заполнены. Проверьте себя и ещё раз выведите количество пропущенных значений для каждого столбца с помощью двух методов.**"
   ]
  },
  {
   "cell_type": "code",
   "execution_count": 12,
   "id": "55f78bc2",
   "metadata": {
    "deletable": false,
    "id": "55f78bc2",
    "outputId": "8da1e4e1-358e-4e87-98c9-f261bce0a7b2"
   },
   "outputs": [
    {
     "data": {
      "text/plain": [
       "children            0\n",
       "days_employed       0\n",
       "dob_years           0\n",
       "education           0\n",
       "education_id        0\n",
       "family_status       0\n",
       "family_status_id    0\n",
       "gender              0\n",
       "income_type         0\n",
       "debt                0\n",
       "total_income        0\n",
       "purpose             0\n",
       "dtype: int64"
      ]
     },
     "execution_count": 12,
     "metadata": {},
     "output_type": "execute_result"
    }
   ],
   "source": [
    "data.isna().sum()"
   ]
  },
  {
   "cell_type": "markdown",
   "id": "ddc81e43",
   "metadata": {
    "deletable": false,
    "id": "ddc81e43"
   },
   "source": [
    "### Изменение типов данных"
   ]
  },
  {
   "cell_type": "markdown",
   "id": "42d19d24",
   "metadata": {
    "deletable": false,
    "id": "42d19d24"
   },
   "source": [
    "**Задание 13. Замените вещественный тип данных в столбце `total_income` на целочисленный с помощью метода `astype()`.**"
   ]
  },
  {
   "cell_type": "code",
   "execution_count": 13,
   "id": "920b65ad",
   "metadata": {
    "deletable": false,
    "id": "920b65ad"
   },
   "outputs": [],
   "source": [
    "data['total_income'] = data['total_income'].astype(int)"
   ]
  },
  {
   "cell_type": "markdown",
   "id": "80c420ba",
   "metadata": {
    "deletable": false,
    "id": "80c420ba"
   },
   "source": [
    "### Обработка дубликатов"
   ]
  },
  {
   "cell_type": "markdown",
   "id": "dc587695",
   "metadata": {
    "deletable": false,
    "id": "dc587695"
   },
   "source": [
    "**Задание 14. Выведите на экран количество строк-дубликатов в данных. Если такие строки присутствуют, удалите их.**"
   ]
  },
  {
   "cell_type": "code",
   "execution_count": 14,
   "id": "3ee445e4",
   "metadata": {
    "deletable": false,
    "id": "3ee445e4",
    "outputId": "9684deba-1934-42d1-99e1-cda61740f822"
   },
   "outputs": [
    {
     "data": {
      "text/plain": [
       "54"
      ]
     },
     "execution_count": 14,
     "metadata": {},
     "output_type": "execute_result"
    }
   ],
   "source": [
    "data.duplicated().sum()"
   ]
  },
  {
   "cell_type": "code",
   "execution_count": 15,
   "id": "8575fe05",
   "metadata": {
    "deletable": false,
    "id": "8575fe05"
   },
   "outputs": [],
   "source": [
    "data = data.drop_duplicates()"
   ]
  },
  {
   "cell_type": "markdown",
   "id": "9771a76c",
   "metadata": {
    "deletable": false,
    "id": "9771a76c"
   },
   "source": [
    "**Задание 15. Обработайте неявные дубликаты в столбце `education`. В этом столбце есть одни и те же значения, но записанные по-разному: с использованием заглавных и строчных букв. Приведите их к нижнему регистру. Проверьте остальные столбцы.**"
   ]
  },
  {
   "cell_type": "code",
   "execution_count": 16,
   "id": "a9f8e2bf",
   "metadata": {
    "deletable": false,
    "id": "a9f8e2bf"
   },
   "outputs": [],
   "source": [
    "data['education'] = data['education'].str.lower()"
   ]
  },
  {
   "cell_type": "markdown",
   "id": "9904cf55",
   "metadata": {
    "deletable": false,
    "id": "9904cf55"
   },
   "source": [
    "### Категоризация данных"
   ]
  },
  {
   "cell_type": "markdown",
   "id": "72fcc8a2",
   "metadata": {
    "deletable": false,
    "id": "72fcc8a2"
   },
   "source": [
    "**Задание 16. На основании диапазонов, указанных ниже, создайте в датафрейме `data` столбец `total_income_category` с категориями:**\n",
    "\n",
    "- 0–30000 — `'E'`;\n",
    "- 30001–50000 — `'D'`;\n",
    "- 50001–200000 — `'C'`;\n",
    "- 200001–1000000 — `'B'`;\n",
    "- 1000001 и выше — `'A'`.\n",
    "\n",
    "\n",
    "**Например, кредитополучателю с доходом 25000 нужно назначить категорию `'E'`, а клиенту, получающему 235000, — `'B'`. Используйте собственную функцию с именем `categorize_income()` и метод `apply()`.**"
   ]
  },
  {
   "cell_type": "code",
   "execution_count": 17,
   "id": "e1771346",
   "metadata": {
    "deletable": false,
    "id": "e1771346"
   },
   "outputs": [],
   "source": [
    "def categorize_income(income):\n",
    "    try:\n",
    "        if 0 <= income <= 30000:\n",
    "            return 'E'\n",
    "        elif 30001 <= income <= 50000:\n",
    "            return 'D'\n",
    "        elif 50001 <= income <= 200000:\n",
    "            return 'C'\n",
    "        elif 200001 <= income <= 1000000:\n",
    "            return 'B'\n",
    "        elif income >= 1000001:\n",
    "            return 'A'\n",
    "    except:\n",
    "        pass"
   ]
  },
  {
   "cell_type": "code",
   "execution_count": 18,
   "id": "d5f3586d",
   "metadata": {
    "deletable": false,
    "id": "d5f3586d"
   },
   "outputs": [],
   "source": [
    "data['total_income_category'] = data['total_income'].apply(categorize_income)"
   ]
  },
  {
   "cell_type": "markdown",
   "id": "dde49b5c",
   "metadata": {
    "deletable": false,
    "id": "dde49b5c"
   },
   "source": [
    "**Задание 17. Выведите на экран перечень уникальных целей взятия кредита из столбца `purpose`.**"
   ]
  },
  {
   "cell_type": "code",
   "execution_count": 19,
   "id": "f67ce9b3",
   "metadata": {
    "deletable": false,
    "id": "f67ce9b3",
    "outputId": "673c12d9-7d7e-4ae0-9812-c622c89dd244"
   },
   "outputs": [
    {
     "data": {
      "text/plain": [
       "array(['покупка жилья', 'приобретение автомобиля',\n",
       "       'дополнительное образование', 'сыграть свадьбу',\n",
       "       'операции с жильем', 'образование', 'на проведение свадьбы',\n",
       "       'покупка жилья для семьи', 'покупка недвижимости',\n",
       "       'покупка коммерческой недвижимости', 'покупка жилой недвижимости',\n",
       "       'строительство собственной недвижимости', 'недвижимость',\n",
       "       'строительство недвижимости', 'на покупку подержанного автомобиля',\n",
       "       'на покупку своего автомобиля',\n",
       "       'операции с коммерческой недвижимостью',\n",
       "       'строительство жилой недвижимости', 'жилье',\n",
       "       'операции со своей недвижимостью', 'автомобили',\n",
       "       'заняться образованием', 'сделка с подержанным автомобилем',\n",
       "       'получение образования', 'автомобиль', 'свадьба',\n",
       "       'получение дополнительного образования', 'покупка своего жилья',\n",
       "       'операции с недвижимостью', 'получение высшего образования',\n",
       "       'свой автомобиль', 'сделка с автомобилем',\n",
       "       'профильное образование', 'высшее образование',\n",
       "       'покупка жилья для сдачи', 'на покупку автомобиля', 'ремонт жилью',\n",
       "       'заняться высшим образованием'], dtype=object)"
      ]
     },
     "execution_count": 19,
     "metadata": {},
     "output_type": "execute_result"
    }
   ],
   "source": [
    "data['purpose'].unique()"
   ]
  },
  {
   "cell_type": "markdown",
   "id": "85d0aef0",
   "metadata": {
    "deletable": false,
    "id": "85d0aef0"
   },
   "source": [
    "**Задание 18. Создайте функцию, которая на основании данных из столбца `purpose` сформирует новый столбец `purpose_category`, в который войдут следующие категории:**\n",
    "\n",
    "- `'операции с автомобилем'`,\n",
    "- `'операции с недвижимостью'`,\n",
    "- `'проведение свадьбы'`,\n",
    "- `'получение образования'`.\n",
    "\n",
    "**Например, если в столбце `purpose` находится подстрока `'на покупку автомобиля'`, то в столбце `purpose_category` должна появиться строка `'операции с автомобилем'`.**\n",
    "\n",
    "**Используйте собственную функцию с именем `categorize_purpose()` и метод `apply()`. Изучите данные в столбце `purpose` и определите, какие подстроки помогут вам правильно определить категорию.**"
   ]
  },
  {
   "cell_type": "code",
   "execution_count": 20,
   "id": "e149fab4",
   "metadata": {
    "deletable": false,
    "id": "e149fab4"
   },
   "outputs": [],
   "source": [
    "def categorize_purpose(row):\n",
    "    try:\n",
    "        if 'автом' in row:\n",
    "            return 'операции с автомобилем'\n",
    "        elif 'жил' in row or 'недвиж' in row:\n",
    "            return 'операции с недвижимостью'\n",
    "        elif 'свад' in row:\n",
    "            return 'проведение свадьбы'\n",
    "        elif 'образов' in row:\n",
    "            return 'получение образования'\n",
    "    except:\n",
    "        return 'нет категории'"
   ]
  },
  {
   "cell_type": "code",
   "execution_count": 21,
   "id": "bf36e69b",
   "metadata": {
    "deletable": false,
    "id": "bf36e69b"
   },
   "outputs": [],
   "source": [
    "data['purpose_category'] = data['purpose'].apply(categorize_purpose)"
   ]
  },
  {
   "cell_type": "markdown",
   "id": "09b242bf",
   "metadata": {
    "deletable": false,
    "editable": false,
    "id": "09b242bf"
   },
   "source": [
    "## Исследуйте данные и ответьте на вопросы"
   ]
  },
  {
   "cell_type": "markdown",
   "id": "150772d0",
   "metadata": {},
   "source": [
    "<div class=\"alert alert-danger\">\n",
    "<b>Комментарий ревьюера ❌:</b> Замечание по всему разделу ответов на вопросы\n",
    "    \n",
    "****\n",
    "У тебя хорошие навыки написания кода, в частности groupby, но все же в данном случае не обязательно усложнять код и писать его в несколько строк, достаточно в пивот воспользоваться встроенными функциями. Выведи пожалуйста в каждом из ответов таблицу, в которой будет количество кредитополучателей, количество должников и долю должников, сделать все это можно в одну строку. Немного подскажу, воспользуйся sum,count и mean\n",
    "    \n",
    "******\n",
    "    \n",
    "Дополни пожалуйста этот раздел работы)"
   ]
  },
  {
   "cell_type": "markdown",
   "id": "b2209db4",
   "metadata": {},
   "source": [
    "<div class=\"alert alert-info\"> <b>Комментарий студента:</b> Благодарю за замечания. Я написал код в несколько строк, по двум причинам: 1) большую часть обучения нас тренировали группировать именно через groupby; 2) я думал, что написание в несколько строк повысить удобочитаемость кода. </div>"
   ]
  },
  {
   "cell_type": "markdown",
   "id": "aa792560",
   "metadata": {},
   "source": [
    "<div class=\"alert alert-success\">\n",
    "<b>Комментарий ревьюера v 2.0 ✔️:</b> Все понял) Отлично, пивот добавлен как надо"
   ]
  },
  {
   "cell_type": "markdown",
   "id": "c5d66278",
   "metadata": {
    "deletable": false,
    "editable": false,
    "id": "c5d66278"
   },
   "source": [
    "**Задание 19. Есть ли зависимость между количеством детей и возвратом кредита в срок?**"
   ]
  },
  {
   "cell_type": "code",
   "execution_count": 22,
   "id": "2cacfc4a",
   "metadata": {
    "id": "2cacfc4a"
   },
   "outputs": [
    {
     "data": {
      "text/html": [
       "<div>\n",
       "<style scoped>\n",
       "    .dataframe tbody tr th:only-of-type {\n",
       "        vertical-align: middle;\n",
       "    }\n",
       "\n",
       "    .dataframe tbody tr th {\n",
       "        vertical-align: top;\n",
       "    }\n",
       "\n",
       "    .dataframe thead th {\n",
       "        text-align: right;\n",
       "    }\n",
       "</style>\n",
       "<table border=\"1\" class=\"dataframe\">\n",
       "  <thead>\n",
       "    <tr style=\"text-align: right;\">\n",
       "      <th></th>\n",
       "      <th>family_child_count</th>\n",
       "      <th>family_child_debt</th>\n",
       "      <th>debt_ratio_%</th>\n",
       "    </tr>\n",
       "    <tr>\n",
       "      <th>children</th>\n",
       "      <th></th>\n",
       "      <th></th>\n",
       "      <th></th>\n",
       "    </tr>\n",
       "  </thead>\n",
       "  <tbody>\n",
       "    <tr>\n",
       "      <th>4</th>\n",
       "      <td>41</td>\n",
       "      <td>4</td>\n",
       "      <td>9.756098</td>\n",
       "    </tr>\n",
       "    <tr>\n",
       "      <th>2</th>\n",
       "      <td>2052</td>\n",
       "      <td>194</td>\n",
       "      <td>9.454191</td>\n",
       "    </tr>\n",
       "    <tr>\n",
       "      <th>1</th>\n",
       "      <td>4809</td>\n",
       "      <td>444</td>\n",
       "      <td>9.232689</td>\n",
       "    </tr>\n",
       "    <tr>\n",
       "      <th>3</th>\n",
       "      <td>330</td>\n",
       "      <td>27</td>\n",
       "      <td>8.181818</td>\n",
       "    </tr>\n",
       "    <tr>\n",
       "      <th>0</th>\n",
       "      <td>14107</td>\n",
       "      <td>1063</td>\n",
       "      <td>7.535266</td>\n",
       "    </tr>\n",
       "    <tr>\n",
       "      <th>5</th>\n",
       "      <td>9</td>\n",
       "      <td>0</td>\n",
       "      <td>0.000000</td>\n",
       "    </tr>\n",
       "  </tbody>\n",
       "</table>\n",
       "</div>"
      ],
      "text/plain": [
       "          family_child_count  family_child_debt  debt_ratio_%\n",
       "children                                                     \n",
       "4                         41                  4      9.756098\n",
       "2                       2052                194      9.454191\n",
       "1                       4809                444      9.232689\n",
       "3                        330                 27      8.181818\n",
       "0                      14107               1063      7.535266\n",
       "5                          9                  0      0.000000"
      ]
     },
     "metadata": {},
     "output_type": "display_data"
    }
   ],
   "source": [
    "# Ваш код будет здесь. Вы можете создавать новые ячейки.\n",
    "\n",
    "debt_child = pd.DataFrame()\n",
    "debt_child['family_child_count'] = data.groupby('children')['debt'].count()\n",
    "debt_child['family_child_debt'] = data.groupby('children')['debt'].sum()\n",
    "debt_child['debt_ratio_%'] = debt_child['family_child_debt'] / debt_child['family_child_count'] * 100\n",
    "\n",
    "display(debt_child.sort_values('debt_ratio_%', ascending=False))\n"
   ]
  },
  {
   "cell_type": "markdown",
   "id": "c6521d25",
   "metadata": {},
   "source": [
    "<div class=\"alert alert-info\"> <b>Комментарий студента:</b> Ниже вариант с оценкой в одну строку. Не нашел как устанавливать порядок колонок (mean в центре не очень нравится)  </div>"
   ]
  },
  {
   "cell_type": "markdown",
   "id": "81cebb90",
   "metadata": {},
   "source": [
    "<div class=\"alert alert-success\">\n",
    "<b>Комментарий ревьюера v 2.0 ✔️:</b> Можно например вот так:"
   ]
  },
  {
   "cell_type": "code",
   "execution_count": 23,
   "id": "60224ae4",
   "metadata": {},
   "outputs": [
    {
     "data": {
      "text/html": [
       "<div>\n",
       "<style scoped>\n",
       "    .dataframe tbody tr th:only-of-type {\n",
       "        vertical-align: middle;\n",
       "    }\n",
       "\n",
       "    .dataframe tbody tr th {\n",
       "        vertical-align: top;\n",
       "    }\n",
       "\n",
       "    .dataframe thead tr th {\n",
       "        text-align: left;\n",
       "    }\n",
       "\n",
       "    .dataframe thead tr:last-of-type th {\n",
       "        text-align: right;\n",
       "    }\n",
       "</style>\n",
       "<table border=\"1\" class=\"dataframe\">\n",
       "  <thead>\n",
       "    <tr>\n",
       "      <th></th>\n",
       "      <th>count</th>\n",
       "      <th>sum</th>\n",
       "      <th>mean</th>\n",
       "    </tr>\n",
       "    <tr>\n",
       "      <th></th>\n",
       "      <th>debt</th>\n",
       "      <th>debt</th>\n",
       "      <th>debt</th>\n",
       "    </tr>\n",
       "    <tr>\n",
       "      <th>children</th>\n",
       "      <th></th>\n",
       "      <th></th>\n",
       "      <th></th>\n",
       "    </tr>\n",
       "  </thead>\n",
       "  <tbody>\n",
       "    <tr>\n",
       "      <th>0</th>\n",
       "      <td>14107</td>\n",
       "      <td>1063</td>\n",
       "      <td>0.075353</td>\n",
       "    </tr>\n",
       "    <tr>\n",
       "      <th>1</th>\n",
       "      <td>4809</td>\n",
       "      <td>444</td>\n",
       "      <td>0.092327</td>\n",
       "    </tr>\n",
       "    <tr>\n",
       "      <th>2</th>\n",
       "      <td>2052</td>\n",
       "      <td>194</td>\n",
       "      <td>0.094542</td>\n",
       "    </tr>\n",
       "    <tr>\n",
       "      <th>3</th>\n",
       "      <td>330</td>\n",
       "      <td>27</td>\n",
       "      <td>0.081818</td>\n",
       "    </tr>\n",
       "    <tr>\n",
       "      <th>4</th>\n",
       "      <td>41</td>\n",
       "      <td>4</td>\n",
       "      <td>0.097561</td>\n",
       "    </tr>\n",
       "    <tr>\n",
       "      <th>5</th>\n",
       "      <td>9</td>\n",
       "      <td>0</td>\n",
       "      <td>0.000000</td>\n",
       "    </tr>\n",
       "  </tbody>\n",
       "</table>\n",
       "</div>"
      ],
      "text/plain": [
       "          count   sum      mean\n",
       "           debt  debt      debt\n",
       "children                       \n",
       "0         14107  1063  0.075353\n",
       "1          4809   444  0.092327\n",
       "2          2052   194  0.094542\n",
       "3           330    27  0.081818\n",
       "4            41     4  0.097561\n",
       "5             9     0  0.000000"
      ]
     },
     "metadata": {},
     "output_type": "display_data"
    }
   ],
   "source": [
    "display(data.pivot_table(index='children', values='debt', aggfunc=['count', 'sum', 'mean']))"
   ]
  },
  {
   "cell_type": "code",
   "execution_count": 24,
   "id": "5d0bc37d",
   "metadata": {},
   "outputs": [
    {
     "ename": "ValueError",
     "evalue": "The column label 'mean' is not unique.\nFor a multi-index, the label must be a tuple with elements corresponding to each level.",
     "output_type": "error",
     "traceback": [
      "\u001b[0;31m---------------------------------------------------------------------------\u001b[0m",
      "\u001b[0;31mValueError\u001b[0m                                Traceback (most recent call last)",
      "\u001b[0;32m/tmp/ipykernel_48/3513022401.py\u001b[0m in \u001b[0;36m<module>\u001b[0;34m\u001b[0m\n\u001b[0;32m----> 1\u001b[0;31m \u001b[0mdisplay\u001b[0m\u001b[0;34m(\u001b[0m\u001b[0mdata\u001b[0m\u001b[0;34m.\u001b[0m\u001b[0mpivot_table\u001b[0m\u001b[0;34m(\u001b[0m\u001b[0mindex\u001b[0m\u001b[0;34m=\u001b[0m\u001b[0;34m'children'\u001b[0m\u001b[0;34m,\u001b[0m \u001b[0mvalues\u001b[0m\u001b[0;34m=\u001b[0m\u001b[0;34m'debt'\u001b[0m\u001b[0;34m,\u001b[0m \u001b[0maggfunc\u001b[0m\u001b[0;34m=\u001b[0m\u001b[0;34m[\u001b[0m\u001b[0;34m'count'\u001b[0m\u001b[0;34m,\u001b[0m\u001b[0;34m'sum'\u001b[0m\u001b[0;34m,\u001b[0m\u001b[0;34m'mean'\u001b[0m\u001b[0;34m]\u001b[0m\u001b[0;34m)\u001b[0m\u001b[0;34m.\u001b[0m\u001b[0msort_values\u001b[0m\u001b[0;34m(\u001b[0m\u001b[0;34m'mean'\u001b[0m\u001b[0;34m,\u001b[0m\u001b[0mascending\u001b[0m\u001b[0;34m=\u001b[0m\u001b[0;32mFalse\u001b[0m\u001b[0;34m)\u001b[0m\u001b[0;34m)\u001b[0m\u001b[0;34m\u001b[0m\u001b[0;34m\u001b[0m\u001b[0m\n\u001b[0m",
      "\u001b[0;32m/opt/conda/lib/python3.9/site-packages/pandas/core/frame.py\u001b[0m in \u001b[0;36msort_values\u001b[0;34m(self, by, axis, ascending, inplace, kind, na_position, ignore_index, key)\u001b[0m\n\u001b[1;32m   5453\u001b[0m \u001b[0;34m\u001b[0m\u001b[0m\n\u001b[1;32m   5454\u001b[0m             \u001b[0mby\u001b[0m \u001b[0;34m=\u001b[0m \u001b[0mby\u001b[0m\u001b[0;34m[\u001b[0m\u001b[0;36m0\u001b[0m\u001b[0;34m]\u001b[0m\u001b[0;34m\u001b[0m\u001b[0;34m\u001b[0m\u001b[0m\n\u001b[0;32m-> 5455\u001b[0;31m             \u001b[0mk\u001b[0m \u001b[0;34m=\u001b[0m \u001b[0mself\u001b[0m\u001b[0;34m.\u001b[0m\u001b[0m_get_label_or_level_values\u001b[0m\u001b[0;34m(\u001b[0m\u001b[0mby\u001b[0m\u001b[0;34m,\u001b[0m \u001b[0maxis\u001b[0m\u001b[0;34m=\u001b[0m\u001b[0maxis\u001b[0m\u001b[0;34m)\u001b[0m\u001b[0;34m\u001b[0m\u001b[0;34m\u001b[0m\u001b[0m\n\u001b[0m\u001b[1;32m   5456\u001b[0m \u001b[0;34m\u001b[0m\u001b[0m\n\u001b[1;32m   5457\u001b[0m             \u001b[0;31m# need to rewrap column in Series to apply key function\u001b[0m\u001b[0;34m\u001b[0m\u001b[0;34m\u001b[0m\u001b[0;34m\u001b[0m\u001b[0m\n",
      "\u001b[0;32m/opt/conda/lib/python3.9/site-packages/pandas/core/generic.py\u001b[0m in \u001b[0;36m_get_label_or_level_values\u001b[0;34m(self, key, axis)\u001b[0m\n\u001b[1;32m   1697\u001b[0m \u001b[0;34m\u001b[0m\u001b[0m\n\u001b[1;32m   1698\u001b[0m             \u001b[0mlabel_axis_name\u001b[0m \u001b[0;34m=\u001b[0m \u001b[0;34m\"column\"\u001b[0m \u001b[0;32mif\u001b[0m \u001b[0maxis\u001b[0m \u001b[0;34m==\u001b[0m \u001b[0;36m0\u001b[0m \u001b[0;32melse\u001b[0m \u001b[0;34m\"index\"\u001b[0m\u001b[0;34m\u001b[0m\u001b[0;34m\u001b[0m\u001b[0m\n\u001b[0;32m-> 1699\u001b[0;31m             raise ValueError(\n\u001b[0m\u001b[1;32m   1700\u001b[0m                 \u001b[0;34mf\"The {label_axis_name} label '{key}' is not unique.{multi_message}\"\u001b[0m\u001b[0;34m\u001b[0m\u001b[0;34m\u001b[0m\u001b[0m\n\u001b[1;32m   1701\u001b[0m             )\n",
      "\u001b[0;31mValueError\u001b[0m: The column label 'mean' is not unique.\nFor a multi-index, the label must be a tuple with elements corresponding to each level."
     ]
    }
   ],
   "source": [
    "display(data.pivot_table(index='children', values='debt', aggfunc=['count','sum','mean']).sort_values('mean',ascending=False))"
   ]
  },
  {
   "cell_type": "markdown",
   "id": "3a6b99ec",
   "metadata": {
    "deletable": false,
    "id": "3a6b99ec"
   },
   "source": [
    "**Вывод:** Семьи без детей реже не платят в срок в сравнении с семьями с детьми. Отмечается увеличение задолженностей с ростом количества детей (не включая в учет данные по семьям с 5 детьми). Однако семьи с 3 детьми реже задерживают оплату по кредиту, чем семьи с 1, 2 и 4 детьми. С ростом количества детей снижается и количество одобренных кредитов, что может влиять на однородность данных, поэтому возможно нужно больше наблюдений в группах с детьми.   "
   ]
  },
  {
   "cell_type": "markdown",
   "id": "25b9a219",
   "metadata": {},
   "source": [
    "<div class=\"alert alert-success\">\n",
    "<b>Комментарий ревьюера ✔️:</b> В остальном, хороший вывод, зависимость здесь действительно есть"
   ]
  },
  {
   "cell_type": "markdown",
   "id": "97be82ca",
   "metadata": {
    "deletable": false,
    "editable": false,
    "id": "97be82ca"
   },
   "source": [
    "**Задание 20. Есть ли зависимость между семейным положением и возвратом кредита в срок?**"
   ]
  },
  {
   "cell_type": "code",
   "execution_count": null,
   "id": "dc3f7ee8",
   "metadata": {
    "id": "dc3f7ee8"
   },
   "outputs": [],
   "source": [
    "# Ваш код будет здесь. Вы можете создавать новые ячейки.\n",
    "debt_family_status = pd.DataFrame()\n",
    "debt_family_status['family_status_count'] = data.groupby('family_status')['debt'].count()\n",
    "debt_family_status['family_status_debt'] = data.groupby('family_status')['debt'].sum()\n",
    "debt_family_status['debt_ratio_%'] = debt_family_status['family_status_debt'] / debt_family_status['family_status_count'] * 100\n",
    "display(debt_family_status.sort_values('debt_ratio_%', ascending=False))\n"
   ]
  },
  {
   "cell_type": "markdown",
   "id": "f0a3c069",
   "metadata": {},
   "source": [
    "<div class=\"alert alert-info\"> <b>Комментарий студента:</b> Ниже вариант с оценкой в одну строку. Не нашел как устанавливать порядок колонок (mean в центре не очень нравится)  </div>"
   ]
  },
  {
   "cell_type": "code",
   "execution_count": null,
   "id": "9616d03b",
   "metadata": {},
   "outputs": [],
   "source": [
    "display(data.pivot_table(index='family_status', values='debt', aggfunc=('count','sum','mean')).sort_values('mean',ascending=False))"
   ]
  },
  {
   "cell_type": "markdown",
   "id": "1cef7837",
   "metadata": {
    "deletable": false,
    "id": "1cef7837"
   },
   "source": [
    "**Вывод:** Клиенты банка бывшие в отношениях, но закончившие их по каким-либо причинам (развод, овдовение) чаще платят в срок чем люди в отношениях и не женатые. Стоит отметить, что не женатые чаще всего просрачивают плату по кредиту."
   ]
  },
  {
   "cell_type": "markdown",
   "id": "554bc88e",
   "metadata": {},
   "source": [
    "<div class=\"alert alert-success\">\n",
    "<b>Комментарий ревьюера ✔️:</b> И правда, те в чьей жизни в каком-то виде был брак, более надежные кредитополучатели"
   ]
  },
  {
   "cell_type": "markdown",
   "id": "1e8b2fca",
   "metadata": {
    "deletable": false,
    "editable": false,
    "id": "1e8b2fca"
   },
   "source": [
    "**Задание 21. Есть ли зависимость между уровнем дохода и возвратом кредита в срок?**"
   ]
  },
  {
   "cell_type": "code",
   "execution_count": null,
   "id": "cd7e3720",
   "metadata": {
    "id": "cd7e3720"
   },
   "outputs": [],
   "source": [
    "# Ваш код будет здесь. Вы можете создавать новые ячейки.\n",
    "debt_total_income_category = pd.DataFrame()\n",
    "debt_total_income_category['total_income_category_count'] = data.groupby('total_income_category')['debt'].count()\n",
    "debt_total_income_category['total_income_category_debt'] = data.groupby('total_income_category')['debt'].sum()\n",
    "debt_total_income_category['debt_ratio_%'] = debt_total_income_category['total_income_category_debt'] / debt_total_income_category['total_income_category_count'] * 100\n",
    "display(debt_total_income_category.sort_values('debt_ratio_%', ascending=False))"
   ]
  },
  {
   "cell_type": "markdown",
   "id": "bba7da4a",
   "metadata": {},
   "source": [
    "<div class=\"alert alert-info\"> <b>Комментарий студента:</b> Ниже вариант с оценкой в одну строку. Не нашел как устанавливать порядок колонок (mean в центре не очень нравится). Так же дополнил вывод  </div>"
   ]
  },
  {
   "cell_type": "markdown",
   "id": "7c4694b4",
   "metadata": {},
   "source": [
    "<div class=\"alert alert-success\">\n",
    "<b>Комментарий ревьюера v 2.0 ✔️:</b> Все верно"
   ]
  },
  {
   "cell_type": "code",
   "execution_count": null,
   "id": "f71882e7",
   "metadata": {},
   "outputs": [],
   "source": [
    "display(data.pivot_table(index='total_income_category', values='debt', aggfunc=('count','sum','mean')).sort_values('mean',ascending=False))"
   ]
  },
  {
   "cell_type": "markdown",
   "id": "e8593def",
   "metadata": {
    "deletable": false,
    "id": "e8593def"
   },
   "source": [
    "**Вывод:** Между уровнем дохода и возвратом кредита в срок не наблюдеается четкой зависимости. Стоит отметить, что клиенты категории B и С вместе составляют почти 21 000 случаев, в то время как категории А, Е и D сотавляют почти 400 случаев. Данные по категориям не однородны, поэтому для корректного анализа лучше иметь больший объем данных по категориям А, Е и D.    "
   ]
  },
  {
   "cell_type": "markdown",
   "id": "eb3285d2",
   "metadata": {},
   "source": [
    "<div class=\"alert alert-warning\">\n",
    "<b>Комментарий ревьюера ⚠️:</b> Согласен, тут еще неплохо было бы отметить, что часть данных не очень репрезентативна"
   ]
  },
  {
   "cell_type": "markdown",
   "id": "99ecbd1f",
   "metadata": {
    "deletable": false,
    "editable": false,
    "id": "99ecbd1f"
   },
   "source": [
    "**Задание 22. Как разные цели кредита влияют на его возврат в срок?**"
   ]
  },
  {
   "cell_type": "code",
   "execution_count": null,
   "id": "2b687290",
   "metadata": {
    "id": "2b687290"
   },
   "outputs": [],
   "source": [
    "# Ваш код будет здесь. Вы можете создавать новые ячейки.\n",
    "debt_purpose_category = pd.DataFrame()\n",
    "debt_purpose_category['purpose_count'] = data.groupby('purpose_category')['debt'].count()\n",
    "debt_purpose_category['purpose_debt'] = data.groupby('purpose_category')['debt'].sum()\n",
    "debt_purpose_category['debt_ratio_%'] = debt_purpose_category['purpose_debt'] / debt_purpose_category['purpose_count'] * 100\n",
    "\n",
    "display(debt_purpose_category.sort_values('debt_ratio_%', ascending=False))"
   ]
  },
  {
   "cell_type": "markdown",
   "id": "e7e2df5f",
   "metadata": {},
   "source": [
    "<div class=\"alert alert-info\"> <b>Комментарий студента:</b> Ниже вариант с оценкой в одну строку. Не нашел как устанавливать порядок колонок (mean в центре не очень нравится)  </div>"
   ]
  },
  {
   "cell_type": "code",
   "execution_count": null,
   "id": "f1413e3d",
   "metadata": {},
   "outputs": [],
   "source": [
    "display(data.pivot_table(index='purpose_category', values='debt', aggfunc=('count','sum','mean')).sort_values('mean',ascending=False))"
   ]
  },
  {
   "cell_type": "markdown",
   "id": "b4bb2ce6",
   "metadata": {
    "deletable": false,
    "id": "b4bb2ce6"
   },
   "source": [
    "**Вывод:** Люди берущие кредит на операции с недвижимостью и проведение свадьбы чаще возвращают деньги по кредиту всрок, нежели люди берущие кредит на операции с авто и образование."
   ]
  },
  {
   "cell_type": "markdown",
   "id": "55e16fae",
   "metadata": {},
   "source": [
    "<div class=\"alert alert-success\">\n",
    "<b>Комментарий ревьюера ✔️:</b> Да, все именно так"
   ]
  },
  {
   "cell_type": "markdown",
   "id": "09c3ac4c",
   "metadata": {
    "deletable": false,
    "editable": false,
    "id": "09c3ac4c"
   },
   "source": [
    "**Задание 23. Приведите возможные причины появления пропусков в исходных данных.**"
   ]
  },
  {
   "cell_type": "markdown",
   "id": "9da2ceda",
   "metadata": {
    "deletable": false,
    "id": "9da2ceda"
   },
   "source": [
    "*Ответ:* Пропуски были отмечены в полях с источником дохода и средним стажем. Эти данные изначально могли не учитывать при выдаче кредита и не собирали их вообще до определенного момента. Так же эта информация могла собираться по желанию."
   ]
  },
  {
   "cell_type": "markdown",
   "id": "98c15c95",
   "metadata": {},
   "source": [
    "<div class=\"alert alert-success\">\n",
    "<b>Комментарий ревьюера ✔️:</b> Хорошие предположения о пропусках данных"
   ]
  },
  {
   "cell_type": "markdown",
   "id": "7b0487d6",
   "metadata": {
    "deletable": false,
    "editable": false,
    "id": "7b0487d6"
   },
   "source": [
    "**Задание 24. Объясните, почему заполнить пропуски медианным значением — лучшее решение для количественных переменных.**"
   ]
  },
  {
   "cell_type": "markdown",
   "id": "7ecf2b8e",
   "metadata": {
    "deletable": false,
    "id": "7ecf2b8e"
   },
   "source": [
    "*Ответ:* В независимости от вида распределения данных медиана будет находиться в середине числового ряда и не повлияет на характер распределения данных"
   ]
  },
  {
   "cell_type": "markdown",
   "id": "4d0a8d8c",
   "metadata": {},
   "source": [
    "<div class=\"alert alert-success\">\n",
    "<b>Комментарий ревьюера ✔️:</b> Именно, дело тут в выбросах"
   ]
  },
  {
   "cell_type": "markdown",
   "id": "6db5255a",
   "metadata": {
    "deletable": false,
    "editable": false,
    "id": "6db5255a"
   },
   "source": [
    "## Общий вывод."
   ]
  },
  {
   "cell_type": "markdown",
   "id": "bad65432",
   "metadata": {
    "id": "bad65432"
   },
   "source": [
    "На основании проведенного исследования продемонстрировано, что люди не имеющие детей чаще возвращают кредит в срок, по сравнению с людьми с детьми. Клиенты бывшие в отношениях так же возвращают деньги по кредиту в срок чаще, чем не женатые и люди в отношениях. Уровень дохода не влияет на возврат кредита в срок. Люди берущие кредит на операции с недвижимостью и проведение свадьбы чаще возвращают деньги по кредиту всрок, нежели люди берущие кредит на операции с авто и образование.\n",
    "Таким образом, идеальные кандидаты на выдачу кредита это люди без детей, бывшие в отношениях, берущие кредит на операции с недвижимостью/проведение свадьбы"
   ]
  },
  {
   "cell_type": "markdown",
   "id": "0f0f5a0b",
   "metadata": {},
   "source": [
    "<div class=\"alert alert-success\">\n",
    "<b>Комментарий ревьюера ✔️:</b> Ты отлично понимаешь суть проведенного анализа!"
   ]
  },
  {
   "cell_type": "markdown",
   "id": "de39d198",
   "metadata": {},
   "source": [
    "<div class=\"alert alert-success\">\n",
    "<b>Комментарий ревьюера ✔️:</b> Никита, проект отличный! У тебя сильные аналитические навыки и владение инструментами для проведения исследования. Но всё же в проекте есть буквально одно критическое замечание и я попрошу тебя исправить его, чтобы проект стал еще лучше! </div>"
   ]
  }
 ],
 "metadata": {
  "ExecuteTimeLog": [
   {
    "duration": 744,
    "start_time": "2022-07-15T08:30:28.472Z"
   },
   {
    "duration": 22,
    "start_time": "2022-07-15T08:30:29.218Z"
   },
   {
    "duration": 16,
    "start_time": "2022-07-15T08:30:29.241Z"
   },
   {
    "duration": 10,
    "start_time": "2022-07-15T08:30:29.259Z"
   },
   {
    "duration": 35,
    "start_time": "2022-07-15T08:30:29.271Z"
   },
   {
    "duration": 3,
    "start_time": "2022-07-15T08:30:29.307Z"
   },
   {
    "duration": 10,
    "start_time": "2022-07-15T08:30:29.312Z"
   },
   {
    "duration": 4,
    "start_time": "2022-07-15T08:30:29.324Z"
   },
   {
    "duration": 10,
    "start_time": "2022-07-15T08:30:29.329Z"
   },
   {
    "duration": 24,
    "start_time": "2022-07-15T08:30:29.341Z"
   },
   {
    "duration": 38,
    "start_time": "2022-07-15T08:30:29.367Z"
   },
   {
    "duration": 11,
    "start_time": "2022-07-15T08:30:29.407Z"
   },
   {
    "duration": 10,
    "start_time": "2022-07-15T08:30:29.419Z"
   },
   {
    "duration": 41,
    "start_time": "2022-07-15T08:30:29.431Z"
   },
   {
    "duration": 16,
    "start_time": "2022-07-15T08:30:29.474Z"
   },
   {
    "duration": 11,
    "start_time": "2022-07-15T08:30:29.492Z"
   },
   {
    "duration": 7,
    "start_time": "2022-07-15T08:30:29.504Z"
   },
   {
    "duration": 20,
    "start_time": "2022-07-15T08:30:29.512Z"
   },
   {
    "duration": 12,
    "start_time": "2022-07-15T08:30:29.534Z"
   },
   {
    "duration": 3,
    "start_time": "2022-07-15T08:30:29.564Z"
   },
   {
    "duration": 16,
    "start_time": "2022-07-15T08:30:29.568Z"
   },
   {
    "duration": 7,
    "start_time": "2022-07-15T08:30:29.585Z"
   },
   {
    "duration": 6,
    "start_time": "2022-07-15T08:30:29.593Z"
   },
   {
    "duration": 7,
    "start_time": "2022-07-15T08:30:29.600Z"
   },
   {
    "duration": 6,
    "start_time": "2022-07-15T08:30:29.609Z"
   },
   {
    "duration": 19,
    "start_time": "2022-07-15T08:32:13.321Z"
   },
   {
    "duration": 8,
    "start_time": "2022-07-15T08:32:44.775Z"
   },
   {
    "duration": 7,
    "start_time": "2022-07-15T08:50:27.812Z"
   },
   {
    "duration": 10,
    "start_time": "2022-07-15T08:52:16.306Z"
   },
   {
    "duration": 8,
    "start_time": "2022-07-15T08:52:30.480Z"
   },
   {
    "duration": 63,
    "start_time": "2022-07-15T08:59:21.296Z"
   },
   {
    "duration": 16,
    "start_time": "2022-07-15T08:59:56.355Z"
   },
   {
    "duration": 61,
    "start_time": "2022-07-15T09:00:49.174Z"
   },
   {
    "duration": 14,
    "start_time": "2022-07-15T09:00:54.506Z"
   },
   {
    "duration": 13,
    "start_time": "2022-07-15T09:02:51.660Z"
   },
   {
    "duration": 50,
    "start_time": "2022-07-15T09:09:17.836Z"
   },
   {
    "duration": 19,
    "start_time": "2022-07-15T09:09:37.037Z"
   },
   {
    "duration": 13,
    "start_time": "2022-07-15T09:09:48.833Z"
   },
   {
    "duration": 15,
    "start_time": "2022-07-15T09:11:49.387Z"
   },
   {
    "duration": 14,
    "start_time": "2022-07-15T09:12:08.598Z"
   },
   {
    "duration": 9,
    "start_time": "2022-07-15T09:25:41.951Z"
   },
   {
    "duration": 4,
    "start_time": "2022-07-15T09:26:12.252Z"
   },
   {
    "duration": 17,
    "start_time": "2022-07-15T09:26:28.395Z"
   },
   {
    "duration": 16,
    "start_time": "2022-07-15T09:27:32.456Z"
   },
   {
    "duration": 15,
    "start_time": "2022-07-15T09:29:10.439Z"
   },
   {
    "duration": 49,
    "start_time": "2022-07-15T09:32:12.892Z"
   },
   {
    "duration": 17,
    "start_time": "2022-07-15T09:32:18.402Z"
   },
   {
    "duration": 17,
    "start_time": "2022-07-15T09:42:37.908Z"
   },
   {
    "duration": 11,
    "start_time": "2022-07-15T09:53:25.128Z"
   },
   {
    "duration": 12,
    "start_time": "2022-07-15T09:53:41.443Z"
   },
   {
    "duration": 6,
    "start_time": "2022-07-15T09:56:28.825Z"
   },
   {
    "duration": 12,
    "start_time": "2022-07-15T09:56:53.920Z"
   },
   {
    "duration": 13,
    "start_time": "2022-07-15T09:57:12.990Z"
   },
   {
    "duration": 439,
    "start_time": "2022-07-15T09:57:27.299Z"
   },
   {
    "duration": 21,
    "start_time": "2022-07-15T09:57:27.740Z"
   },
   {
    "duration": 14,
    "start_time": "2022-07-15T09:57:27.763Z"
   },
   {
    "duration": 9,
    "start_time": "2022-07-15T09:57:27.779Z"
   },
   {
    "duration": 36,
    "start_time": "2022-07-15T09:57:27.789Z"
   },
   {
    "duration": 4,
    "start_time": "2022-07-15T09:57:27.826Z"
   },
   {
    "duration": 11,
    "start_time": "2022-07-15T09:57:27.831Z"
   },
   {
    "duration": 23,
    "start_time": "2022-07-15T09:57:27.843Z"
   },
   {
    "duration": 9,
    "start_time": "2022-07-15T09:57:27.867Z"
   },
   {
    "duration": 4,
    "start_time": "2022-07-15T09:57:27.880Z"
   },
   {
    "duration": 34,
    "start_time": "2022-07-15T09:57:27.886Z"
   },
   {
    "duration": 9,
    "start_time": "2022-07-15T09:57:27.922Z"
   },
   {
    "duration": 3,
    "start_time": "2022-07-15T09:57:27.933Z"
   },
   {
    "duration": 17,
    "start_time": "2022-07-15T09:57:27.964Z"
   },
   {
    "duration": 16,
    "start_time": "2022-07-15T09:57:27.983Z"
   },
   {
    "duration": 12,
    "start_time": "2022-07-15T09:57:28.000Z"
   },
   {
    "duration": 5,
    "start_time": "2022-07-15T09:57:28.014Z"
   },
   {
    "duration": 14,
    "start_time": "2022-07-15T09:57:28.020Z"
   },
   {
    "duration": 30,
    "start_time": "2022-07-15T09:57:28.036Z"
   },
   {
    "duration": 4,
    "start_time": "2022-07-15T09:57:28.068Z"
   },
   {
    "duration": 11,
    "start_time": "2022-07-15T09:57:28.074Z"
   },
   {
    "duration": 16,
    "start_time": "2022-07-15T09:57:28.086Z"
   },
   {
    "duration": 14,
    "start_time": "2022-07-15T09:57:28.104Z"
   },
   {
    "duration": 13,
    "start_time": "2022-07-15T09:57:28.120Z"
   },
   {
    "duration": 91,
    "start_time": "2022-07-15T09:57:28.134Z"
   },
   {
    "duration": 16,
    "start_time": "2022-07-15T09:58:03.836Z"
   },
   {
    "duration": 11,
    "start_time": "2022-07-15T09:58:18.851Z"
   },
   {
    "duration": 14,
    "start_time": "2022-07-15T09:58:56.317Z"
   },
   {
    "duration": 18,
    "start_time": "2022-07-15T09:59:18.371Z"
   },
   {
    "duration": 8,
    "start_time": "2022-07-15T09:59:32.721Z"
   },
   {
    "duration": 18,
    "start_time": "2022-07-15T09:59:44.338Z"
   },
   {
    "duration": 66,
    "start_time": "2022-07-15T18:06:49.188Z"
   },
   {
    "duration": 59,
    "start_time": "2022-07-15T18:07:17.397Z"
   },
   {
    "duration": 82,
    "start_time": "2022-07-15T18:08:21.633Z"
   },
   {
    "duration": 826,
    "start_time": "2022-07-15T18:08:39.332Z"
   },
   {
    "duration": 23,
    "start_time": "2022-07-15T18:08:40.160Z"
   },
   {
    "duration": 33,
    "start_time": "2022-07-15T18:08:40.184Z"
   },
   {
    "duration": 45,
    "start_time": "2022-07-15T18:08:40.219Z"
   },
   {
    "duration": 37,
    "start_time": "2022-07-15T18:08:40.268Z"
   },
   {
    "duration": 3,
    "start_time": "2022-07-15T18:08:40.307Z"
   },
   {
    "duration": 41,
    "start_time": "2022-07-15T18:08:40.312Z"
   },
   {
    "duration": 6,
    "start_time": "2022-07-15T18:08:40.354Z"
   },
   {
    "duration": 11,
    "start_time": "2022-07-15T18:08:40.362Z"
   },
   {
    "duration": 7,
    "start_time": "2022-07-15T18:08:40.375Z"
   },
   {
    "duration": 59,
    "start_time": "2022-07-15T18:08:40.383Z"
   },
   {
    "duration": 15,
    "start_time": "2022-07-15T18:08:40.447Z"
   },
   {
    "duration": 4,
    "start_time": "2022-07-15T18:08:40.465Z"
   },
   {
    "duration": 20,
    "start_time": "2022-07-15T18:08:40.474Z"
   },
   {
    "duration": 20,
    "start_time": "2022-07-15T18:08:40.496Z"
   },
   {
    "duration": 39,
    "start_time": "2022-07-15T18:08:40.517Z"
   },
   {
    "duration": 7,
    "start_time": "2022-07-15T18:08:40.557Z"
   },
   {
    "duration": 20,
    "start_time": "2022-07-15T18:08:40.566Z"
   },
   {
    "duration": 24,
    "start_time": "2022-07-15T18:08:40.588Z"
   },
   {
    "duration": 28,
    "start_time": "2022-07-15T18:08:40.614Z"
   },
   {
    "duration": 12,
    "start_time": "2022-07-15T18:08:40.644Z"
   },
   {
    "duration": 14,
    "start_time": "2022-07-15T18:08:40.657Z"
   },
   {
    "duration": 93,
    "start_time": "2022-07-15T18:08:40.673Z"
   },
   {
    "duration": 0,
    "start_time": "2022-07-15T18:08:40.767Z"
   },
   {
    "duration": 0,
    "start_time": "2022-07-15T18:08:40.769Z"
   },
   {
    "duration": 0,
    "start_time": "2022-07-15T18:08:40.770Z"
   },
   {
    "duration": 23,
    "start_time": "2022-07-15T18:09:06.296Z"
   },
   {
    "duration": 13,
    "start_time": "2022-07-15T18:09:22.676Z"
   },
   {
    "duration": 11,
    "start_time": "2022-07-15T18:10:40.832Z"
   },
   {
    "duration": 10,
    "start_time": "2022-07-15T18:10:50.061Z"
   },
   {
    "duration": 37,
    "start_time": "2022-07-15T18:10:58.052Z"
   },
   {
    "duration": 25,
    "start_time": "2022-07-15T18:11:36.283Z"
   },
   {
    "duration": 408,
    "start_time": "2022-07-15T19:03:46.950Z"
   },
   {
    "duration": 23,
    "start_time": "2022-07-15T19:03:47.360Z"
   },
   {
    "duration": 15,
    "start_time": "2022-07-15T19:03:47.384Z"
   },
   {
    "duration": 8,
    "start_time": "2022-07-15T19:03:47.401Z"
   },
   {
    "duration": 33,
    "start_time": "2022-07-15T19:03:47.411Z"
   },
   {
    "duration": 3,
    "start_time": "2022-07-15T19:03:47.446Z"
   },
   {
    "duration": 12,
    "start_time": "2022-07-15T19:03:47.450Z"
   },
   {
    "duration": 8,
    "start_time": "2022-07-15T19:03:47.463Z"
   },
   {
    "duration": 32,
    "start_time": "2022-07-15T19:03:47.472Z"
   },
   {
    "duration": 6,
    "start_time": "2022-07-15T19:03:47.508Z"
   },
   {
    "duration": 42,
    "start_time": "2022-07-15T19:03:47.516Z"
   },
   {
    "duration": 10,
    "start_time": "2022-07-15T19:03:47.559Z"
   },
   {
    "duration": 5,
    "start_time": "2022-07-15T19:03:47.571Z"
   },
   {
    "duration": 34,
    "start_time": "2022-07-15T19:03:47.578Z"
   },
   {
    "duration": 16,
    "start_time": "2022-07-15T19:03:47.614Z"
   },
   {
    "duration": 10,
    "start_time": "2022-07-15T19:03:47.632Z"
   },
   {
    "duration": 6,
    "start_time": "2022-07-15T19:03:47.644Z"
   },
   {
    "duration": 12,
    "start_time": "2022-07-15T19:03:47.652Z"
   },
   {
    "duration": 13,
    "start_time": "2022-07-15T19:03:47.665Z"
   },
   {
    "duration": 21,
    "start_time": "2022-07-15T19:03:47.680Z"
   },
   {
    "duration": 7,
    "start_time": "2022-07-15T19:03:47.702Z"
   },
   {
    "duration": 14,
    "start_time": "2022-07-15T19:03:47.711Z"
   },
   {
    "duration": 44,
    "start_time": "2022-07-15T19:03:47.726Z"
   },
   {
    "duration": 0,
    "start_time": "2022-07-15T19:03:47.772Z"
   },
   {
    "duration": 0,
    "start_time": "2022-07-15T19:03:47.773Z"
   },
   {
    "duration": 0,
    "start_time": "2022-07-15T19:03:47.774Z"
   },
   {
    "duration": 15,
    "start_time": "2022-07-15T19:03:55.598Z"
   },
   {
    "duration": 69,
    "start_time": "2022-07-15T19:06:18.763Z"
   },
   {
    "duration": 10,
    "start_time": "2022-07-15T19:09:49.492Z"
   },
   {
    "duration": 12,
    "start_time": "2022-07-15T19:10:28.767Z"
   },
   {
    "duration": 79,
    "start_time": "2022-07-15T19:12:01.336Z"
   },
   {
    "duration": 49,
    "start_time": "2022-07-15T19:13:21.628Z"
   },
   {
    "duration": 23,
    "start_time": "2022-07-15T19:14:08.515Z"
   },
   {
    "duration": 17,
    "start_time": "2022-07-15T19:15:05.225Z"
   },
   {
    "duration": 23,
    "start_time": "2022-07-15T19:15:13.533Z"
   },
   {
    "duration": 23,
    "start_time": "2022-07-15T19:15:51.797Z"
   },
   {
    "duration": 18,
    "start_time": "2022-07-15T19:18:12.465Z"
   },
   {
    "duration": 21,
    "start_time": "2022-07-15T19:18:34.899Z"
   },
   {
    "duration": 25,
    "start_time": "2022-07-15T19:19:08.630Z"
   },
   {
    "duration": 7,
    "start_time": "2022-07-15T19:19:29.582Z"
   },
   {
    "duration": 32,
    "start_time": "2022-07-15T19:19:47.981Z"
   },
   {
    "duration": 16,
    "start_time": "2022-07-15T19:21:28.349Z"
   },
   {
    "duration": 22,
    "start_time": "2022-07-15T19:21:41.232Z"
   },
   {
    "duration": 28,
    "start_time": "2022-07-15T19:21:55.405Z"
   },
   {
    "duration": 28,
    "start_time": "2022-07-15T19:24:15.383Z"
   },
   {
    "duration": 21,
    "start_time": "2022-07-15T19:24:31.832Z"
   },
   {
    "duration": 25,
    "start_time": "2022-07-15T19:27:35.850Z"
   },
   {
    "duration": 23,
    "start_time": "2022-07-15T19:28:04.553Z"
   },
   {
    "duration": 22,
    "start_time": "2022-07-15T19:35:58.542Z"
   },
   {
    "duration": 16,
    "start_time": "2022-07-15T19:36:48.340Z"
   },
   {
    "duration": 20,
    "start_time": "2022-07-15T19:36:57.840Z"
   },
   {
    "duration": 15,
    "start_time": "2022-07-15T19:38:16.930Z"
   },
   {
    "duration": 12,
    "start_time": "2022-07-15T19:38:25.628Z"
   },
   {
    "duration": 9,
    "start_time": "2022-07-15T19:38:37.720Z"
   },
   {
    "duration": 17,
    "start_time": "2022-07-15T19:39:11.829Z"
   },
   {
    "duration": 29,
    "start_time": "2022-07-15T19:39:33.939Z"
   },
   {
    "duration": 21,
    "start_time": "2022-07-15T19:52:49.933Z"
   },
   {
    "duration": 88,
    "start_time": "2022-07-15T19:53:35.591Z"
   },
   {
    "duration": 21,
    "start_time": "2022-07-15T19:54:26.679Z"
   },
   {
    "duration": 15,
    "start_time": "2022-07-15T19:54:46.951Z"
   },
   {
    "duration": 25,
    "start_time": "2022-07-15T20:02:53.239Z"
   },
   {
    "duration": 597,
    "start_time": "2022-07-15T20:04:17.675Z"
   },
   {
    "duration": 24,
    "start_time": "2022-07-15T20:04:18.274Z"
   },
   {
    "duration": 22,
    "start_time": "2022-07-15T20:04:18.299Z"
   },
   {
    "duration": 19,
    "start_time": "2022-07-15T20:04:18.323Z"
   },
   {
    "duration": 34,
    "start_time": "2022-07-15T20:04:18.344Z"
   },
   {
    "duration": 4,
    "start_time": "2022-07-15T20:04:18.379Z"
   },
   {
    "duration": 15,
    "start_time": "2022-07-15T20:04:18.384Z"
   },
   {
    "duration": 39,
    "start_time": "2022-07-15T20:04:18.408Z"
   },
   {
    "duration": 10,
    "start_time": "2022-07-15T20:04:18.449Z"
   },
   {
    "duration": 4,
    "start_time": "2022-07-15T20:04:18.461Z"
   },
   {
    "duration": 42,
    "start_time": "2022-07-15T20:04:18.466Z"
   },
   {
    "duration": 12,
    "start_time": "2022-07-15T20:04:18.516Z"
   },
   {
    "duration": 8,
    "start_time": "2022-07-15T20:04:18.530Z"
   },
   {
    "duration": 20,
    "start_time": "2022-07-15T20:04:18.540Z"
   },
   {
    "duration": 16,
    "start_time": "2022-07-15T20:04:18.562Z"
   },
   {
    "duration": 11,
    "start_time": "2022-07-15T20:04:18.580Z"
   },
   {
    "duration": 17,
    "start_time": "2022-07-15T20:04:18.592Z"
   },
   {
    "duration": 43,
    "start_time": "2022-07-15T20:04:18.610Z"
   },
   {
    "duration": 14,
    "start_time": "2022-07-15T20:04:18.655Z"
   },
   {
    "duration": 4,
    "start_time": "2022-07-15T20:04:18.671Z"
   },
   {
    "duration": 11,
    "start_time": "2022-07-15T20:04:18.676Z"
   },
   {
    "duration": 21,
    "start_time": "2022-07-15T20:04:18.688Z"
   },
   {
    "duration": 27,
    "start_time": "2022-07-15T20:04:18.711Z"
   },
   {
    "duration": 15,
    "start_time": "2022-07-15T20:04:18.739Z"
   },
   {
    "duration": 33,
    "start_time": "2022-07-15T20:04:18.756Z"
   },
   {
    "duration": 42,
    "start_time": "2022-07-15T20:04:18.790Z"
   },
   {
    "duration": 22,
    "start_time": "2022-07-15T20:04:18.834Z"
   },
   {
    "duration": 16,
    "start_time": "2022-07-15T20:04:18.858Z"
   },
   {
    "duration": 50,
    "start_time": "2022-07-15T20:04:18.875Z"
   },
   {
    "duration": 542,
    "start_time": "2022-07-16T12:01:15.474Z"
   },
   {
    "duration": 26,
    "start_time": "2022-07-16T12:01:16.018Z"
   },
   {
    "duration": 16,
    "start_time": "2022-07-16T12:01:16.237Z"
   },
   {
    "duration": 10,
    "start_time": "2022-07-16T12:01:16.884Z"
   },
   {
    "duration": 33,
    "start_time": "2022-07-16T12:01:17.211Z"
   },
   {
    "duration": 4,
    "start_time": "2022-07-16T12:01:17.702Z"
   },
   {
    "duration": 8,
    "start_time": "2022-07-16T12:01:18.031Z"
   },
   {
    "duration": 5,
    "start_time": "2022-07-16T12:01:18.552Z"
   },
   {
    "duration": 6,
    "start_time": "2022-07-16T12:01:18.891Z"
   },
   {
    "duration": 5,
    "start_time": "2022-07-16T12:01:19.245Z"
   },
   {
    "duration": 32,
    "start_time": "2022-07-16T12:01:19.771Z"
   },
   {
    "duration": 11,
    "start_time": "2022-07-16T12:01:20.134Z"
   },
   {
    "duration": 4,
    "start_time": "2022-07-16T12:01:20.651Z"
   },
   {
    "duration": 19,
    "start_time": "2022-07-16T12:01:21.181Z"
   },
   {
    "duration": 17,
    "start_time": "2022-07-16T12:01:21.360Z"
   },
   {
    "duration": 13,
    "start_time": "2022-07-16T12:01:21.718Z"
   },
   {
    "duration": 4,
    "start_time": "2022-07-16T12:01:22.259Z"
   },
   {
    "duration": 10,
    "start_time": "2022-07-16T12:01:22.457Z"
   },
   {
    "duration": 6,
    "start_time": "2022-07-16T12:01:22.841Z"
   },
   {
    "duration": 3,
    "start_time": "2022-07-16T12:01:23.846Z"
   },
   {
    "duration": 9,
    "start_time": "2022-07-16T12:01:24.014Z"
   },
   {
    "duration": 31,
    "start_time": "2022-07-16T12:02:27.335Z"
   },
   {
    "duration": 84,
    "start_time": "2022-07-16T12:02:49.722Z"
   },
   {
    "duration": 9,
    "start_time": "2022-07-16T12:03:01.418Z"
   },
   {
    "duration": 34,
    "start_time": "2022-07-16T12:03:10.585Z"
   },
   {
    "duration": 51,
    "start_time": "2022-07-16T16:09:45.254Z"
   },
   {
    "duration": 619,
    "start_time": "2022-07-16T16:10:06.401Z"
   },
   {
    "duration": 25,
    "start_time": "2022-07-16T16:10:07.023Z"
   },
   {
    "duration": 42,
    "start_time": "2022-07-16T16:10:07.050Z"
   },
   {
    "duration": 36,
    "start_time": "2022-07-16T16:10:07.095Z"
   },
   {
    "duration": 50,
    "start_time": "2022-07-16T16:10:07.132Z"
   },
   {
    "duration": 5,
    "start_time": "2022-07-16T16:10:07.184Z"
   },
   {
    "duration": 50,
    "start_time": "2022-07-16T16:10:07.191Z"
   },
   {
    "duration": 21,
    "start_time": "2022-07-16T16:10:07.243Z"
   },
   {
    "duration": 32,
    "start_time": "2022-07-16T16:10:07.265Z"
   },
   {
    "duration": 27,
    "start_time": "2022-07-16T16:10:07.301Z"
   },
   {
    "duration": 51,
    "start_time": "2022-07-16T16:10:07.330Z"
   },
   {
    "duration": 9,
    "start_time": "2022-07-16T16:10:07.383Z"
   },
   {
    "duration": 32,
    "start_time": "2022-07-16T16:10:07.394Z"
   },
   {
    "duration": 52,
    "start_time": "2022-07-16T16:10:07.428Z"
   },
   {
    "duration": 53,
    "start_time": "2022-07-16T16:10:07.482Z"
   },
   {
    "duration": 51,
    "start_time": "2022-07-16T16:10:07.537Z"
   },
   {
    "duration": 88,
    "start_time": "2022-07-16T16:10:07.590Z"
   },
   {
    "duration": 98,
    "start_time": "2022-07-16T16:10:07.680Z"
   },
   {
    "duration": 20,
    "start_time": "2022-07-16T16:10:07.780Z"
   },
   {
    "duration": 20,
    "start_time": "2022-07-16T16:10:07.802Z"
   },
   {
    "duration": 54,
    "start_time": "2022-07-16T16:10:07.824Z"
   },
   {
    "duration": 40,
    "start_time": "2022-07-16T16:10:07.879Z"
   },
   {
    "duration": 44,
    "start_time": "2022-07-16T16:10:07.921Z"
   },
   {
    "duration": 98,
    "start_time": "2022-07-16T16:10:07.967Z"
   },
   {
    "duration": 0,
    "start_time": "2022-07-16T16:10:08.068Z"
   },
   {
    "duration": 0,
    "start_time": "2022-07-16T16:10:08.069Z"
   },
   {
    "duration": 0,
    "start_time": "2022-07-16T16:10:08.070Z"
   },
   {
    "duration": 0,
    "start_time": "2022-07-16T16:10:08.071Z"
   },
   {
    "duration": 0,
    "start_time": "2022-07-16T16:10:08.072Z"
   },
   {
    "duration": 0,
    "start_time": "2022-07-16T16:10:08.074Z"
   }
  ],
  "colab": {
   "name": "dpp_template_part2.ipynb",
   "provenance": []
  },
  "kernelspec": {
   "display_name": "Python 3 (ipykernel)",
   "language": "python",
   "name": "python3"
  },
  "language_info": {
   "codemirror_mode": {
    "name": "ipython",
    "version": 3
   },
   "file_extension": ".py",
   "mimetype": "text/x-python",
   "name": "python",
   "nbconvert_exporter": "python",
   "pygments_lexer": "ipython3",
   "version": "3.9.5"
  },
  "toc": {
   "base_numbering": 1,
   "nav_menu": {},
   "number_sections": true,
   "sideBar": true,
   "skip_h1_title": true,
   "title_cell": "Table of Contents",
   "title_sidebar": "Contents",
   "toc_cell": false,
   "toc_position": {},
   "toc_section_display": true,
   "toc_window_display": false
  }
 },
 "nbformat": 4,
 "nbformat_minor": 5
}
